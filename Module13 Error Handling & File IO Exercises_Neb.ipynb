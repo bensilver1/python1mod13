{
 "cells": [
  {
   "cell_type": "markdown",
   "metadata": {},
   "source": [
    "### Exercise 1\n",
    "Create a file called <b>exercise1.txt</b> and write following lines:\n",
    "\n",
    "    Twinkle, twinkle, little star,\n",
    "    How I wonder what you are.\n",
    "    Up above the world so high,\n",
    "    Like a diamond in the sky.\n",
    "    \n",
    "    \n",
    "Don't forget to close the file.        "
   ]
  },
  {
   "cell_type": "code",
   "execution_count": 58,
   "metadata": {},
   "outputs": [],
   "source": [
    "create_file = open('excercise1.txt', 'w')  \n",
    "lines = \"Twinkle, twinkle, little star,\\nHow I wonder what you are.\\nUp above the world so high,\\nLike a diamond in the sky.\\n\"\n",
    "create_file.write(lines)\n",
    "create_file.close()"
   ]
  },
  {
   "cell_type": "code",
   "execution_count": null,
   "metadata": {},
   "outputs": [],
   "source": []
  },
  {
   "cell_type": "markdown",
   "metadata": {},
   "source": [
    "### Exercise 2\n",
    "Append following lines to a file called <b>exercise1.txt</b>:\n",
    "\n",
    "    Twinkle, twinkle, little star,\n",
    "    How I wonder what you are.\n",
    "    \n",
    "Don't forget to close the file.    "
   ]
  },
  {
   "cell_type": "code",
   "execution_count": 63,
   "metadata": {},
   "outputs": [],
   "source": [
    "update_file = open('excercise1.txt', 'a')  \n",
    "lines2 = \"Twinkle, twinkle, little star,\\nHow I wonder what you are.\\n\"\n",
    "update_file.write(lines2)\n",
    "update_file.close()"
   ]
  },
  {
   "cell_type": "code",
   "execution_count": null,
   "metadata": {},
   "outputs": [],
   "source": []
  },
  {
   "cell_type": "markdown",
   "metadata": {},
   "source": [
    "### Exercise 3\n",
    "Read a file, <b>exercise1.txt</b> and print the content of the file using a loop.\n",
    "    \n",
    "Don't forget to close the file.    "
   ]
  },
  {
   "cell_type": "code",
   "execution_count": 46,
   "metadata": {},
   "outputs": [
    {
     "name": "stdout",
     "output_type": "stream",
     "text": [
      "Twinkle, twinkle, little star,\n",
      "\n",
      "How I wonder what you are.\n",
      "\n",
      "Up above the world so high,\n",
      "\n",
      "Like a diamond in the sky.\n",
      "\n",
      "Twinkle, twinkle, little star,\n",
      "\n",
      "How I wonder what you are.\n",
      "\n"
     ]
    }
   ],
   "source": [
    "read_file = open(\"excercise1.txt\", \"r\")\n",
    "file_content = read_file.readlines()\n",
    "\n",
    "for item in file_content :\n",
    "    print(item)\n",
    "    \n",
    "read_file.close()"
   ]
  },
  {
   "cell_type": "code",
   "execution_count": null,
   "metadata": {},
   "outputs": [],
   "source": []
  },
  {
   "cell_type": "markdown",
   "metadata": {},
   "source": [
    "### Exercise 4\n",
    "Read line number 4 from the file, <b>exercise1.txt</b>."
   ]
  },
  {
   "cell_type": "code",
   "execution_count": 47,
   "metadata": {},
   "outputs": [
    {
     "name": "stdout",
     "output_type": "stream",
     "text": [
      "Like a diamond in the sky.\n",
      "\n"
     ]
    }
   ],
   "source": [
    "read_file = open(\"excercise1.txt\", \"r\")\n",
    "\n",
    "file_content = read_file.readlines()\n",
    "\n",
    "line_num = 0\n",
    "for line in file_content:\n",
    "    # print(line)\n",
    "    line_num +=1\n",
    "    # print(line_num)\n",
    "    if line_num == 4:\n",
    "        print(line)\n"
   ]
  },
  {
   "cell_type": "code",
   "execution_count": null,
   "metadata": {},
   "outputs": [],
   "source": []
  },
  {
   "cell_type": "markdown",
   "metadata": {},
   "source": [
    "### Exercise 5\n",
    "Write a program that asks the user for a number and a file name, then prints out the number from 1 to that number, one one each line to a file named using user's input.\n",
    "Then, read that file and print out its content."
   ]
  },
  {
   "cell_type": "code",
   "execution_count": 54,
   "metadata": {},
   "outputs": [],
   "source": [
    "def numto_file(user_num, file_name):\n",
    "    num = 0\n",
    "    user_file = open(f'{file_name}', 'w')  \n",
    "\n",
    "    while num < user_num:\n",
    "        # print(num)\n",
    "        num += 1\n",
    "        open(f'{file_name}', 'a')  \n",
    "        user_file.write(f'{str(num)}\\n')\n",
    "    \n",
    "    user_file.close()\n",
    "\n",
    "    user_file = open(f'{file_name}', 'r') \n",
    "    file_content = user_file.readlines()\n",
    "\n",
    "    for item in file_content :\n",
    "        print(item)\n",
    "    \n",
    "    user_file.close()\n",
    "\n",
    "\n"
   ]
  },
  {
   "cell_type": "code",
   "execution_count": 55,
   "metadata": {},
   "outputs": [
    {
     "name": "stdin",
     "output_type": "stream",
     "text": [
      "Enter a number:  4\n",
      "Enter a file name:  exer5\n"
     ]
    },
    {
     "name": "stdout",
     "output_type": "stream",
     "text": [
      "1\n",
      "\n",
      "2\n",
      "\n",
      "3\n",
      "\n",
      "4\n",
      "\n"
     ]
    }
   ],
   "source": [
    "user_num = int(input(\"Enter a number: \"))\n",
    "file_name = input(\"Enter a file name: \")\n",
    "\n",
    "numto_file(user_num,file_name)"
   ]
  },
  {
   "cell_type": "markdown",
   "metadata": {},
   "source": [
    "### Exercise 6\n",
    "Merge a file from exercise 5 and <b>exercise1.txt</b> to a file called <b>merged.txt</b>. Then, prin out the content of <b>merged.txt</b> before closing the file."
   ]
  },
  {
   "cell_type": "code",
   "execution_count": 74,
   "metadata": {},
   "outputs": [
    {
     "name": "stdout",
     "output_type": "stream",
     "text": [
      "1\n",
      "\n",
      "2\n",
      "\n",
      "3\n",
      "\n",
      "4\n",
      "\n",
      "Twinkle, twinkle, little star,\n",
      "\n",
      "How I wonder what you are.\n",
      "\n",
      "Up above the world so high,\n",
      "\n",
      "Like a diamond in the sky.\n",
      "\n",
      "Twinkle, twinkle, little star,\n",
      "\n",
      "How I wonder what you are.\n",
      "\n"
     ]
    }
   ],
   "source": [
    "\n",
    "#exercise5_file = open(f'{file_name}', 'r') \n",
    "exercise5_file = open('exer5', 'r') #PCEP2024/exer5\n",
    "exercise1_file = open('excercise1.txt', 'r') # PCEP2024/excercise1.txt\n",
    "merged_file = open('merged.txt', 'w')\n",
    "\n",
    "\n",
    "file1 = exercise5_file.read()\n",
    "# print(file1)\n",
    "file2 = exercise1_file.read()\n",
    "# print(file2)\n",
    "\n",
    "merged_file.write(file1)\n",
    "merged_file.write(file2)\n",
    "\n",
    "\n",
    "merged_file = open('merged.txt', 'r')\n",
    "merged_content = merged_file.readlines()\n",
    "\n",
    "for item in merged_content :\n",
    "    print(item)\n",
    "\n",
    "exercise5_file.close()\n",
    "exercise1_file.close()\n",
    "merged_file.close()\n"
   ]
  }
 ],
 "metadata": {
  "kernelspec": {
   "display_name": "Python 3 (ipykernel)",
   "language": "python",
   "name": "python3"
  },
  "language_info": {
   "codemirror_mode": {
    "name": "ipython",
    "version": 3
   },
   "file_extension": ".py",
   "mimetype": "text/x-python",
   "name": "python",
   "nbconvert_exporter": "python",
   "pygments_lexer": "ipython3",
   "version": "3.11.7"
  }
 },
 "nbformat": 4,
 "nbformat_minor": 4
}
